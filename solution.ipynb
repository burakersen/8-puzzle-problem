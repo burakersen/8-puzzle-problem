{
  "nbformat": 4,
  "nbformat_minor": 0,
  "metadata": {
    "colab": {
      "provenance": []
    },
    "kernelspec": {
      "name": "python3",
      "display_name": "Python 3"
    },
    "language_info": {
      "name": "python"
    }
  },
  "cells": [
    {
      "cell_type": "markdown",
      "source": [
        "8-puzzle problem "
      ],
      "metadata": {
        "id": "17jUCogkcLK-"
      }
    },
    {
      "cell_type": "code",
      "execution_count": 58,
      "metadata": {
        "id": "_5dPyou0cYTE"
      },
      "outputs": [],
      "source": [
        "# Depth first search in search of target - Using Recursion\n",
        "import numpy as np\n",
        "\n",
        "def dfs(src,target,limit,visited_states):\n",
        "    # Base case if Target found\n",
        "    if (np.array_equal(src,target)):\n",
        "      return True\n",
        "    \n",
        "    # Base case if limit exceeded\n",
        "    if (limit <= 0):\n",
        "      return False\n",
        "    \n",
        "    # Add source to visited_states\n",
        "    visited_states.append(src)\n",
        "    \n",
        "    # Find possible slides up, down, left right to current empty site\n",
        "    ### Jump to possible_moves function\n",
        "    moves = possible_moves(src, visited_states)\n",
        "\n",
        "    # For all possible moves gotten from the possible moves function\n",
        "    # Check if src equals to new targets\n",
        "    # Return True if target found in given depth limit\n",
        "    for move in moves:\n",
        "      if (dfs(move, target, limit-1, visited_states)):\n",
        "        return True\n",
        "\n",
        "    return False   "
      ]
    },
    {
      "cell_type": "code",
      "source": [],
      "metadata": {
        "id": "yksCqkB4MrZN"
      },
      "execution_count": null,
      "outputs": []
    },
    {
      "cell_type": "code",
      "source": [
        "import numpy as np\n",
        "\n",
        "def possible_moves(state,visited_states):\n",
        "    # Find index of empty spot and assign it to b\n",
        "    b = np.where(state == -1)  \n",
        "    row = b[0][0]\n",
        "    column = b[1][0]\n",
        "\n",
        "    #'d' for down, 'u' for up, 'r' for right, 'l' for left - directions array\n",
        "    d = []\n",
        "\n",
        "    #Add all possible direction into directions array - Hint using if statements\n",
        "    if (row == 0):\n",
        "      d.append('d')\n",
        "    elif (row == 1):\n",
        "      d.append('d')\n",
        "      d.append('u')\n",
        "    elif (row == 2):\n",
        "      d.append('u')\n",
        "\n",
        "    if (column == 0):\n",
        "      d.append('r')\n",
        "    elif (column == 1):\n",
        "      d.append('r')\n",
        "      d.append('l')\n",
        "    elif (column == 2):\n",
        "      d.append('l')\n",
        "    \n",
        "    # If direction is possible then add state to move\n",
        "    pos_moves = []\n",
        "    \n",
        "    # for all possible directions find the state if that move is played\n",
        "    ### Jump to gen function to generate all possible moves in the given directions\n",
        "    for m in d:\n",
        "      pos_moves.append(gen(state, m, b))\n",
        "\n",
        "    # return all possible moves only if the move not in visited_states\n",
        "    for visited in visited_states:\n",
        "      for possible in pos_moves:\n",
        "        if (np.array_equal(src,target)):\n",
        "          pos_moves.remove(possible)\n",
        "\n",
        "    return pos_moves"
      ],
      "metadata": {
        "id": "AcHdAmxQcGYm"
      },
      "execution_count": 57,
      "outputs": []
    },
    {
      "cell_type": "code",
      "source": [
        "import numpy as np\n",
        "\n",
        "def gen(state, m, b): # m(move) is direction to slide, b(blank) is index of empty spot\n",
        "    # create a copy of current state to test the move\n",
        "    temp = state.copy()\n",
        "    row = b[0][0]\n",
        "    column = b[1][0]\n",
        "    element = temp[row][column]\n",
        "    \n",
        "    # if move is to slide empty spot to the left and so on\n",
        "    if (m == 'd' or m == 'u'):\n",
        "      if (m == 'd'): \n",
        "        temp_row = row + 1\n",
        "      else: \n",
        "        temp_row = row - 1\n",
        "\n",
        "      temp_element = temp[temp_row][column]\n",
        "      \n",
        "      temp[temp_row][column] = element\n",
        "      temp[row][column] = temp_element\n",
        "    elif (m == 'r' or m == 'l'):\n",
        "      if (m == 'r'):\n",
        "        temp_column = column + 1\n",
        "      else:\n",
        "        temp_column = column - 1\n",
        "\n",
        "      temp_element = temp[row][temp_column]\n",
        "      \n",
        "      temp[row][temp_column] = element\n",
        "      temp[row][column] = temp_element\n",
        "    \n",
        "    # return new state with tested move to later check if \"src == target\"\n",
        "    return temp\n",
        "\n"
      ],
      "metadata": {
        "id": "hx6MReXhcNLV"
      },
      "execution_count": 56,
      "outputs": []
    },
    {
      "cell_type": "markdown",
      "source": [
        "In the next function:\n",
        "\n",
        "    \n",
        "\n",
        "*   Start with a depth of 1 until given depth see if target is reached To find the least depth required to find target \n",
        "*   Create a visited_stated array to keep a check\n",
        "*    Call DFS function for given depth limit\n",
        "\n"
      ],
      "metadata": {
        "id": "0-lRztFPWqpD"
      }
    },
    {
      "cell_type": "code",
      "source": [
        "import numpy as np\n",
        "\n",
        "def ids(src,target,depth):\n",
        "    #iterative-deepening search\n",
        "    # Return Min depth at which the target was found\n",
        "    \n",
        "    for x in range(9):\n",
        "      visited_states = []\n",
        "      temp_depth = depth + x\n",
        "\n",
        "      if (dfs(src,target,temp_depth,visited_states) == True):\n",
        "        return temp_depth\n",
        "\n",
        "    return False"
      ],
      "metadata": {
        "id": "YfuAAVbmkvRV"
      },
      "execution_count": 55,
      "outputs": []
    },
    {
      "cell_type": "code",
      "source": [],
      "metadata": {
        "id": "ZvOdRu5ZWKHf"
      },
      "execution_count": null,
      "outputs": []
    },
    {
      "cell_type": "markdown",
      "source": [
        "In order to simply coding, we may use a list instead of NxN matrix. \n",
        "\n",
        "*   Liste öğesi\n",
        "\n",
        "> Girintili blok\n",
        "\n",
        "\n",
        "*   Liste öğesi\n",
        "\n",
        "Alternatively you may utilize pandas or numpy here. Thus, 3x3 matrix will be a 1x9 list.\n"
      ],
      "metadata": {
        "id": "I3sm2eUyWKt8"
      }
    },
    {
      "cell_type": "code",
      "source": [
        "#Test 1\n",
        "import numpy as np\n",
        "\n",
        "\n",
        "src = [1,2,3,-1,4,5,6,7,8]\n",
        "target = [1,2,3,4,5,-1,6,7,8]\n",
        "\n",
        "src = np.array(src) \n",
        "src = src.reshape(3, 3)\n",
        "\n",
        "target = np.array(target) \n",
        "target = target.reshape(3, 3)\n",
        "\n",
        "depth = 1\n",
        "ids(src, target, depth) # Minimum depth should be 2\n",
        "    "
      ],
      "metadata": {
        "id": "1fxy12AiWJJ1",
        "colab": {
          "base_uri": "https://localhost:8080/"
        },
        "outputId": "c5efaa16-a34b-46bd-ab3b-bbe2a7b6cd98"
      },
      "execution_count": 59,
      "outputs": [
        {
          "output_type": "execute_result",
          "data": {
            "text/plain": [
              "2"
            ]
          },
          "metadata": {},
          "execution_count": 59
        }
      ]
    },
    {
      "cell_type": "code",
      "source": [],
      "metadata": {
        "id": "T7Z1xDn6knmo"
      },
      "execution_count": null,
      "outputs": []
    },
    {
      "cell_type": "code",
      "source": [
        "# Test 2\n",
        "import numpy as np\n",
        "\n",
        "src = [1,2,3,-1,4,5,6,7,8] \n",
        "target=[1,2,3,6,4,5,-1,7,8]\n",
        "\n",
        "src = np.array(src) \n",
        "src = src.reshape(3, 3)\n",
        "\n",
        "target = np.array(target) \n",
        "target = target.reshape(3, 3)\n",
        "\n",
        "depth = 1\n",
        "ids(src, target, depth) # Minimum depth is 1"
      ],
      "metadata": {
        "id": "zhu6Yku6XYWi",
        "colab": {
          "base_uri": "https://localhost:8080/"
        },
        "outputId": "258072b3-8917-4f5b-f9e2-01d9539a7e6f"
      },
      "execution_count": 60,
      "outputs": [
        {
          "output_type": "execute_result",
          "data": {
            "text/plain": [
              "1"
            ]
          },
          "metadata": {},
          "execution_count": 60
        }
      ]
    }
  ]
}