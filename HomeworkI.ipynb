{
  "nbformat": 4,
  "nbformat_minor": 0,
  "metadata": {
    "colab": {
      "provenance": []
    },
    "kernelspec": {
      "name": "python3",
      "display_name": "Python 3"
    },
    "language_info": {
      "name": "python"
    }
  },
  "cells": [
    {
      "cell_type": "markdown",
      "source": [
        "8-puzzle problem "
      ],
      "metadata": {
        "id": "17jUCogkcLK-"
      }
    },
    {
      "cell_type": "code",
      "execution_count": null,
      "metadata": {
        "id": "_5dPyou0cYTE"
      },
      "outputs": [],
      "source": [
        "# Depth first search in search of target - Using Recursion\n",
        "\n",
        "def dfs(src,target,limit,visited_states):\n",
        "    # Base case if Target found\n",
        "    \n",
        "    \n",
        "    \n",
        "    # Base case if limit exceeded\n",
        "\n",
        "    \n",
        "    \n",
        "    # Add source to visited_states\n",
        "\n",
        "    \n",
        "    \n",
        "    # Find possible slides up, down, left right to current empty site\n",
        "    ### Jump to possible_moves function\n",
        "              \n",
        "        \n",
        "    # For all possible moves gotten from the possible moves function\n",
        "    # Check if src equals to new targets\n",
        "    # Return True if target found in given depth limit\n",
        "    pass"
      ]
    },
    {
      "cell_type": "code",
      "source": [],
      "metadata": {
        "id": "4BRJZZD4U16w"
      },
      "execution_count": null,
      "outputs": []
    },
    {
      "cell_type": "code",
      "source": [
        "def possible_moves(state,visited_states): \n",
        "    # Find index of empty spot and assign it to b\n",
        "    b = None  \n",
        "    \n",
        "    #'d' for down, 'u' for up, 'r' for right, 'l' for left - directions array\n",
        "    d = []\n",
        "                                    \n",
        "    #Add all possible direction into directions array - Hint using if statements\n",
        "    \n",
        "    \n",
        "    \n",
        "    # If direction is possible then add state to move\n",
        "    pos_moves = []\n",
        "    \n",
        "    # for all possible directions find the state if that move is played\n",
        "    ### Jump to gen function to generate all possible moves in the given directions\n",
        "    \n",
        "    # return all possible moves only if the move not in visited_states\n",
        "    pass"
      ],
      "metadata": {
        "id": "AcHdAmxQcGYm"
      },
      "execution_count": null,
      "outputs": []
    },
    {
      "cell_type": "code",
      "source": [
        "\n",
        "\n",
        "def gen(state, m, b): # m(move) is direction to slide, b(blank) is index of empty spot\n",
        "    # create a copy of current state to test the move\n",
        "    temp = None                                \n",
        "    \n",
        "    # if move is to slide empty spot to the left and so on\n",
        "    \n",
        "    \n",
        "    \n",
        "    \n",
        "    \n",
        "    # return new state with tested move to later check if \"src == target\"\n",
        "    return temp\n",
        "\n"
      ],
      "metadata": {
        "id": "hx6MReXhcNLV"
      },
      "execution_count": null,
      "outputs": []
    },
    {
      "cell_type": "markdown",
      "source": [
        "In the next function:\n",
        "\n",
        "    \n",
        "\n",
        "*   Start with a depth of 1 until given depth see if target is reached To find the least depth required to find target \n",
        "*   Create a visited_stated array to keep a check\n",
        "*    Call DFS function for given depth limit\n",
        "\n"
      ],
      "metadata": {
        "id": "0-lRztFPWqpD"
      }
    },
    {
      "cell_type": "code",
      "source": [
        "def ids(src,target,depth):\n",
        "    #iterative-deepening search\n",
        "    # Return Min depth at which the target was found\n",
        "    pass"
      ],
      "metadata": {
        "id": "YfuAAVbmkvRV"
      },
      "execution_count": null,
      "outputs": []
    },
    {
      "cell_type": "code",
      "source": [],
      "metadata": {
        "id": "ZvOdRu5ZWKHf"
      },
      "execution_count": null,
      "outputs": []
    },
    {
      "cell_type": "markdown",
      "source": [
        "In order to simply coding, we may use a list instead of NxN matrix. Alternatively you may utilize pandas or numpy here. Thus, 3x3 matrix will be a 1x9 list.\n"
      ],
      "metadata": {
        "id": "I3sm2eUyWKt8"
      }
    },
    {
      "cell_type": "code",
      "source": [
        "#Test 1\n",
        "src = [1,2,3,-1,4,5,6,7,8]\n",
        "target = [1,2,3,4,5,-1,6,7,8]         \n",
        "       \n",
        "depth = 1\n",
        "ids(src, target, depth # Minimum depth should be 2\n",
        "    "
      ],
      "metadata": {
        "id": "1fxy12AiWJJ1"
      },
      "execution_count": null,
      "outputs": []
    },
    {
      "cell_type": "code",
      "source": [
        "# Test 2\n",
        "src = [1,2,3,-1,4,5,6,7,8] \n",
        "target=[1,2,3,6,4,5,-1,7,8]\n",
        "\n",
        "depth = 1\n",
        "ids(src, target, depth) # Minimum depth is 1"
      ],
      "metadata": {
        "id": "zhu6Yku6XYWi"
      },
      "execution_count": null,
      "outputs": []
    }
  ]
}